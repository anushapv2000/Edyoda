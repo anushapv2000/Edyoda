{
 "cells": [
  {
   "cell_type": "code",
   "execution_count": 33,
   "id": "0d94e039",
   "metadata": {},
   "outputs": [],
   "source": [
    "#Challenge 1: Square Numbers and Return Their Sum"
   ]
  },
  {
   "cell_type": "code",
   "execution_count": 42,
   "id": "1acac34e",
   "metadata": {},
   "outputs": [
    {
     "data": {
      "text/plain": [
       "35"
      ]
     },
     "execution_count": 42,
     "metadata": {},
     "output_type": "execute_result"
    }
   ],
   "source": [
    "class Point:\n",
    "    def __init__(self,x,y,z):\n",
    "        self.x=x\n",
    "        self.y=y\n",
    "        self.z=z\n",
    "    def sqSum(self):\n",
    "        self.sum=self.x*self.x+self.y*self.y+self.z*self.z\n",
    "        return self.sum\n",
    "ref=Point(1,3,5)\n",
    "ref.sqSum()"
   ]
  },
  {
   "cell_type": "code",
   "execution_count": 43,
   "id": "51375a25",
   "metadata": {},
   "outputs": [],
   "source": [
    "#Challenge 2: Implement a Calculator Class"
   ]
  },
  {
   "cell_type": "code",
   "execution_count": 52,
   "id": "040c50c7",
   "metadata": {},
   "outputs": [],
   "source": [
    "class Calculator:\n",
    "    def __init__(self,num1,num2):\n",
    "        self.num1=num1\n",
    "        self.num2=num2\n",
    "    def add(self):\n",
    "        sums=self.num1+self.num2\n",
    "        return sums\n",
    "    def subtract(self):\n",
    "        sub=self.num2-self.num1\n",
    "        return sub\n",
    "    def multiply(self):\n",
    "        mul=self.num1*self.num2\n",
    "        return mul\n",
    "    def divide(self):\n",
    "        div=self.num2/self.num1\n",
    "        return div\n",
    "        "
   ]
  },
  {
   "cell_type": "code",
   "execution_count": 53,
   "id": "f00ac177",
   "metadata": {},
   "outputs": [
    {
     "name": "stdout",
     "output_type": "stream",
     "text": [
      "104\n",
      "84\n",
      "940\n",
      "9.4\n"
     ]
    }
   ],
   "source": [
    "obj = Calculator(10, 94)\n",
    "print(obj.add())\n",
    "print(obj.subtract())\n",
    "print(obj.multiply())\n",
    "print(obj.divide())"
   ]
  },
  {
   "cell_type": "code",
   "execution_count": 54,
   "id": "5e2e7948",
   "metadata": {},
   "outputs": [],
   "source": [
    "#Challenge 3: Implement the Complete Student Class"
   ]
  },
  {
   "cell_type": "code",
   "execution_count": 55,
   "id": "523ee0b8",
   "metadata": {},
   "outputs": [
    {
     "data": {
      "text/plain": [
       "'dasd'"
      ]
     },
     "execution_count": 55,
     "metadata": {},
     "output_type": "execute_result"
    }
   ],
   "source": [
    "class Student:\n",
    "    def getName(self):\n",
    "        return(self.__name)\n",
    "    def setName(self,x):\n",
    "        self.__name=x\n",
    "    def getRollNumber(self):\n",
    "        return(self.__rollnumber)\n",
    "    def setRollNumber(self,x):\n",
    "        self.__rollnumber=x\n",
    "x=Student() \n",
    "x.setName(\"dasd\")\n",
    "x.getName()"
   ]
  },
  {
   "cell_type": "code",
   "execution_count": 56,
   "id": "79f25cba",
   "metadata": {},
   "outputs": [],
   "source": [
    "#Challenge 4: Implement a Banking Account"
   ]
  },
  {
   "cell_type": "code",
   "execution_count": 99,
   "id": "7a707420",
   "metadata": {},
   "outputs": [],
   "source": [
    "class Account:\n",
    "    def __init__(self,title=None,balance=0):\n",
    "        self.title=title\n",
    "        self.balance=balance\n",
    "        \n",
    "class SavingsAccount(Account):\n",
    "    def __init__(self,interestRate=0,*args):\n",
    "        super().__init__(*args)\n",
    "        self.interestRate=interestRate\n",
    "x=SavingsAccount(\"Ashish\", 5000,4)\n"
   ]
  },
  {
   "cell_type": "code",
   "execution_count": 71,
   "id": "2176ffba",
   "metadata": {},
   "outputs": [],
   "source": [
    "#Challenge 5: Handling a Bank Account"
   ]
  },
  {
   "cell_type": "code",
   "execution_count": 95,
   "id": "880c4318",
   "metadata": {},
   "outputs": [
    {
     "data": {
      "text/plain": [
       "2500"
      ]
     },
     "execution_count": 95,
     "metadata": {},
     "output_type": "execute_result"
    }
   ],
   "source": [
    "class Account:\n",
    "    def __init__(self,title,balance):\n",
    "        self.title=title\n",
    "        self.balance=balance\n",
    "    def withdrawal(self,amount):\n",
    "        self.sums=self.balance-amount   \n",
    "    def deposit(self,amount):\n",
    "        self.sums=self.balance+amount\n",
    "    def getBalance(self):\n",
    "        return self.sums\n",
    "        \n",
    "class SavingsAccount(Account):\n",
    "    def __init__(self,title=None,balance=0,interestRate=0):\n",
    "        super().__init__(title,balance)\n",
    "        self.interestRate=interestRate\n",
    "    def interestamount(self):\n",
    "        int_amt=(self.interestRate*self.balance)//100\n",
    "        return int_amt\n",
    "x=SavingsAccount(\"Ashish\", 2000,5)\n",
    "x.deposit(500)\n",
    "x.getBalance()\n"
   ]
  },
  {
   "cell_type": "code",
   "execution_count": 96,
   "id": "4f9a352d",
   "metadata": {},
   "outputs": [
    {
     "data": {
      "text/plain": [
       "1500"
      ]
     },
     "execution_count": 96,
     "metadata": {},
     "output_type": "execute_result"
    }
   ],
   "source": [
    "x.withdrawal(500)\n",
    "x.getBalance()"
   ]
  },
  {
   "cell_type": "code",
   "execution_count": 97,
   "id": "1dd3c84f",
   "metadata": {},
   "outputs": [
    {
     "data": {
      "text/plain": [
       "100"
      ]
     },
     "execution_count": 97,
     "metadata": {},
     "output_type": "execute_result"
    }
   ],
   "source": [
    "x.interestamount()"
   ]
  },
  {
   "cell_type": "code",
   "execution_count": null,
   "id": "4c8f371a",
   "metadata": {},
   "outputs": [],
   "source": []
  }
 ],
 "metadata": {
  "kernelspec": {
   "display_name": "Python 3 (ipykernel)",
   "language": "python",
   "name": "python3"
  },
  "language_info": {
   "codemirror_mode": {
    "name": "ipython",
    "version": 3
   },
   "file_extension": ".py",
   "mimetype": "text/x-python",
   "name": "python",
   "nbconvert_exporter": "python",
   "pygments_lexer": "ipython3",
   "version": "3.9.12"
  }
 },
 "nbformat": 4,
 "nbformat_minor": 5
}
