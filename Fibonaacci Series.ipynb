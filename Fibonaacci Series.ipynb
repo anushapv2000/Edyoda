{
 "cells": [
  {
   "cell_type": "code",
   "execution_count": 13,
   "id": "712dbc4c",
   "metadata": {},
   "outputs": [
    {
     "name": "stdout",
     "output_type": "stream",
     "text": [
      "Enter the fibonacci series number9\n",
      "Output :  1 1 2 3 5 8 13 21 34 "
     ]
    }
   ],
   "source": [
    "l=0 #First number 0 assigned for fibonacci\n",
    "k=1 # Second number 1 in fibocacci series is already assigned\n",
    "s=0 #To find the sum of last two series\n",
    "n=(int(input(\"Enter the fibonacci series number\")))\n",
    "print(\"Output : \",end=\" \")\n",
    "for i in range(0,n):\n",
    "    s=k+l\n",
    "    k=l\n",
    "    l=s\n",
    "    print(s,end=\" \")# prints the series of fibonacici\n",
    "    \n",
    "    "
   ]
  },
  {
   "cell_type": "code",
   "execution_count": null,
   "id": "04ac1378",
   "metadata": {},
   "outputs": [],
   "source": []
  }
 ],
 "metadata": {
  "kernelspec": {
   "display_name": "Python 3 (ipykernel)",
   "language": "python",
   "name": "python3"
  },
  "language_info": {
   "codemirror_mode": {
    "name": "ipython",
    "version": 3
   },
   "file_extension": ".py",
   "mimetype": "text/x-python",
   "name": "python",
   "nbconvert_exporter": "python",
   "pygments_lexer": "ipython3",
   "version": "3.9.12"
  }
 },
 "nbformat": 4,
 "nbformat_minor": 5
}
