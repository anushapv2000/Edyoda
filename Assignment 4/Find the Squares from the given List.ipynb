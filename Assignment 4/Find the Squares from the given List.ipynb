{
 "cells": [
  {
   "cell_type": "code",
   "execution_count": 30,
   "id": "bb72f702",
   "metadata": {},
   "outputs": [
    {
     "name": "stdout",
     "output_type": "stream",
     "text": [
      "Enter numbers seperated by ',': 4,5,2,9\n",
      "input list: [4, 5, 2, 9]\n",
      "triple of list numbers: [16, 25, 4, 81]\n"
     ]
    }
   ],
   "source": [
    "\n",
    "lists=[int(i) for i in input(\"Enter numbers seperated by ',': \").split(',')]\n",
    "print(\"input list:\",lists)\n",
    "l=list(map(lambda x:x**2,lists))\n",
    "print(\"triple of list numbers:\",l)"
   ]
  },
  {
   "cell_type": "code",
   "execution_count": null,
   "id": "632c2209",
   "metadata": {},
   "outputs": [],
   "source": []
  }
 ],
 "metadata": {
  "kernelspec": {
   "display_name": "Python 3 (ipykernel)",
   "language": "python",
   "name": "python3"
  },
  "language_info": {
   "codemirror_mode": {
    "name": "ipython",
    "version": 3
   },
   "file_extension": ".py",
   "mimetype": "text/x-python",
   "name": "python",
   "nbconvert_exporter": "python",
   "pygments_lexer": "ipython3",
   "version": "3.9.12"
  }
 },
 "nbformat": 4,
 "nbformat_minor": 5
}
