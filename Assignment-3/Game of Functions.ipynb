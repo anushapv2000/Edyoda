{
 "cells": [
  {
   "cell_type": "code",
   "execution_count": 110,
   "id": "711aad80",
   "metadata": {},
   "outputs": [
    {
     "name": "stdout",
     "output_type": "stream",
     "text": [
      "total number to be included in a list5\n",
      "enter integer values8\n",
      "enter integer values2\n",
      "enter integer values3\n",
      "enter integer values0\n",
      "enter integer values7\n",
      "Summation 8+2+3+0+7=20\n"
     ]
    }
   ],
   "source": [
    "def summation(l):\n",
    "    s=0\n",
    "    k=\"\"\n",
    "    for i in l:\n",
    "        s=s+i\n",
    "        k=k+\"{}+\".format(str(i))\n",
    "    return s,k\n",
    "n=int(input(\"total number to be included in a list\"))\n",
    "l=[]\n",
    "for i in range(n):\n",
    "    l.append(int(input(\"enter integer values\")))\n",
    "sums,p=summation(l)\n",
    "h=list(p)\n",
    "h.insert(-1,\"=\")\n",
    "h[-1]=str(sums)\n",
    "d=\"\"\n",
    "print(\"Summation\",d.join(h))"
   ]
  },
  {
   "cell_type": "code",
   "execution_count": 104,
   "id": "32e3fcae",
   "metadata": {},
   "outputs": [],
   "source": []
  }
 ],
 "metadata": {
  "kernelspec": {
   "display_name": "Python 3 (ipykernel)",
   "language": "python",
   "name": "python3"
  },
  "language_info": {
   "codemirror_mode": {
    "name": "ipython",
    "version": 3
   },
   "file_extension": ".py",
   "mimetype": "text/x-python",
   "name": "python",
   "nbconvert_exporter": "python",
   "pygments_lexer": "ipython3",
   "version": "3.9.12"
  }
 },
 "nbformat": 4,
 "nbformat_minor": 5
}
