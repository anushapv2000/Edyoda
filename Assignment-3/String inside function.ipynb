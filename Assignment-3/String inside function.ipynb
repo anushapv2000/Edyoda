{
 "cells": [
  {
   "cell_type": "code",
   "execution_count": 123,
   "id": "d22027ba",
   "metadata": {},
   "outputs": [
    {
     "name": "stdout",
     "output_type": "stream",
     "text": [
      "Enter the string1234abcd\n",
      "Ouput: dcba4321\n"
     ]
    }
   ],
   "source": [
    "def reverse(n):\n",
    "    s=\"\"\n",
    "    s=n[-1::-1]\n",
    "    return s\n",
    "n=input(\"Enter the string\")\n",
    "r=reverse(n)\n",
    "print(\"Ouput:\",r)"
   ]
  }
 ],
 "metadata": {
  "kernelspec": {
   "display_name": "Python 3 (ipykernel)",
   "language": "python",
   "name": "python3"
  },
  "language_info": {
   "codemirror_mode": {
    "name": "ipython",
    "version": 3
   },
   "file_extension": ".py",
   "mimetype": "text/x-python",
   "name": "python",
   "nbconvert_exporter": "python",
   "pygments_lexer": "ipython3",
   "version": "3.9.12"
  }
 },
 "nbformat": 4,
 "nbformat_minor": 5
}
