{
 "cells": [
  {
   "cell_type": "code",
   "execution_count": 131,
   "id": "ab816d83",
   "metadata": {},
   "outputs": [
    {
     "name": "stdout",
     "output_type": "stream",
     "text": [
      "Enter the string'The quick Brow Fox'\n",
      "No. of Upper case characters : 3\n",
      "No. of Lower case Characters : 12\n"
     ]
    }
   ],
   "source": [
    "def case():\n",
    "    n=input(\"Enter the string\")\n",
    "    u=0\n",
    "    l=0\n",
    "    for i in n:\n",
    "        if i.isupper():\n",
    "            u=u+1\n",
    "        elif i.islower():\n",
    "            l=l+1\n",
    "        else:\n",
    "            continue\n",
    "    return u,l\n",
    "u,l=case()\n",
    "print(\"No. of Upper case characters :\",u)\n",
    "print(\"No. of Lower case Characters :\",l)"
   ]
  }
 ],
 "metadata": {
  "kernelspec": {
   "display_name": "Python 3 (ipykernel)",
   "language": "python",
   "name": "python3"
  },
  "language_info": {
   "codemirror_mode": {
    "name": "ipython",
    "version": 3
   },
   "file_extension": ".py",
   "mimetype": "text/x-python",
   "name": "python",
   "nbconvert_exporter": "python",
   "pygments_lexer": "ipython3",
   "version": "3.9.12"
  }
 },
 "nbformat": 4,
 "nbformat_minor": 5
}
