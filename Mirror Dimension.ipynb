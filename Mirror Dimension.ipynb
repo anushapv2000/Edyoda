{
 "cells": [
  {
   "cell_type": "code",
   "execution_count": 48,
   "id": "e22b839a",
   "metadata": {},
   "outputs": [
    {
     "name": "stdout",
     "output_type": "stream",
     "text": [
      "Input:edyoda\n",
      "1870396118064\n",
      "1868359508400\n",
      "1868359508400\n",
      "1868359508400\n",
      "1868359508400\n",
      "1868359508400\n",
      "Output: adoyde\n"
     ]
    }
   ],
   "source": [
    "k=\"\" #Empty string to store reversed word\n",
    "n=input(\"Input:\")# to take the input\n",
    "for i in range((len(n)-1),-1,-1):# Loop to extract letter from last to first of the word\n",
    "    print(id(k))\n",
    "    k+=n[i]                   #Adding the extracted letter to varible\n",
    "    \n",
    "print(\"Output:\",k)  "
   ]
  },
  {
   "cell_type": "code",
   "execution_count": 49,
   "id": "84676867",
   "metadata": {},
   "outputs": [
    {
     "name": "stdout",
     "output_type": "stream",
     "text": [
      "Input:Edyoda\n",
      "1870390118000\n",
      "1870396118064\n",
      "1868361810864\n",
      "1868361810864\n",
      "1868361810864\n",
      "1868361810864\n",
      "Output: adoydE\n"
     ]
    }
   ],
   "source": [
    "k=\"\" #Empty string to store reversed word\n",
    "n=input(\"Input:\")# to take the input\n",
    "for i in range((len(n)-1),-1,-1):# Loop to extract letter from last to first of the word\n",
    "    print(id(k))\n",
    "    k+=n[i]                   #Adding the extracted letter to varible\n",
    "    \n",
    "print(\"Output:\",k)  "
   ]
  },
  {
   "cell_type": "code",
   "execution_count": 42,
   "id": "d42d533b",
   "metadata": {},
   "outputs": [
    {
     "data": {
      "text/plain": [
       "'sdrow'"
      ]
     },
     "execution_count": 42,
     "metadata": {},
     "output_type": "execute_result"
    }
   ],
   "source": [
    "k"
   ]
  },
  {
   "cell_type": "code",
   "execution_count": null,
   "id": "9d274b02",
   "metadata": {},
   "outputs": [],
   "source": []
  },
  {
   "cell_type": "code",
   "execution_count": null,
   "id": "b6705489",
   "metadata": {},
   "outputs": [],
   "source": []
  }
 ],
 "metadata": {
  "kernelspec": {
   "display_name": "Python 3 (ipykernel)",
   "language": "python",
   "name": "python3"
  },
  "language_info": {
   "codemirror_mode": {
    "name": "ipython",
    "version": 3
   },
   "file_extension": ".py",
   "mimetype": "text/x-python",
   "name": "python",
   "nbconvert_exporter": "python",
   "pygments_lexer": "ipython3",
   "version": "3.9.12"
  }
 },
 "nbformat": 4,
 "nbformat_minor": 5
}
