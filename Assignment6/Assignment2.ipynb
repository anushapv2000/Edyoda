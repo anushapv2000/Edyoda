{
 "cells": [
  {
   "cell_type": "code",
   "execution_count": 19,
   "id": "e38d04dd",
   "metadata": {},
   "outputs": [],
   "source": [
    "class Dog:\n",
    "    def __init__(self,name,age,color):\n",
    "        self.name=name\n",
    "        self.age=age\n",
    "        self.color=color\n",
    "    def description(self):\n",
    "        print(\"Name:\",self.name)\n",
    "        print(\"Age:\",self.age)\n",
    "    def get_info(self):\n",
    "        print(\"Coat color:\",self.color)\n",
    "class JackRussellTerrier(Dog):\n",
    "    def __init__(self,breed,name,age,color):\n",
    "        self.breed=breed\n",
    "        super().__init__(name,age,color)\n",
    "    def breedprint(self):\n",
    "        print(\"breed is\",self.breed)\n",
    "    def printname(self):\n",
    "        print(\"name is\",self.name)\n",
    "class Bulldog(Dog):\n",
    "    def __init__(self,name,age,color,lifespan,breedsize):\n",
    "        self.lifespan=lifespan\n",
    "        self.breedsize=breedsize\n",
    "        super().__init__(name,age,color)\n",
    "    def printlifespan(self):\n",
    "        print(\"lifespan\",self.lifespan)\n",
    "    def sizeofbreed(self):\n",
    "        print(\"breed size:\",self.breedsize)\n",
    "\n",
    "x=JackRussellTerrier(\"golden retriever\",\"tiger\",2,\"Brown\")\n",
    "y=Bulldog(\"kia\",1,\"Grey\",12,\"medium\")"
   ]
  },
  {
   "cell_type": "code",
   "execution_count": 20,
   "id": "4128580f",
   "metadata": {},
   "outputs": [
    {
     "name": "stdout",
     "output_type": "stream",
     "text": [
      "breed is golden retriever\n",
      "name is tiger\n",
      "Coat color: Brown\n",
      "lifespan 12\n",
      "breed size: medium\n",
      "Coat color: Grey\n"
     ]
    }
   ],
   "source": [
    "x.breedprint()\n",
    "x.printname()\n",
    "x.get_info()\n",
    "y.printlifespan()\n",
    "y.sizeofbreed()\n",
    "y.get_info()"
   ]
  },
  {
   "cell_type": "code",
   "execution_count": null,
   "id": "7a70e43b",
   "metadata": {},
   "outputs": [],
   "source": []
  }
 ],
 "metadata": {
  "kernelspec": {
   "display_name": "Python 3 (ipykernel)",
   "language": "python",
   "name": "python3"
  },
  "language_info": {
   "codemirror_mode": {
    "name": "ipython",
    "version": 3
   },
   "file_extension": ".py",
   "mimetype": "text/x-python",
   "name": "python",
   "nbconvert_exporter": "python",
   "pygments_lexer": "ipython3",
   "version": "3.9.12"
  }
 },
 "nbformat": 4,
 "nbformat_minor": 5
}
