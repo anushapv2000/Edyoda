{
 "cells": [
  {
   "cell_type": "code",
   "execution_count": 57,
   "id": "487e9216",
   "metadata": {},
   "outputs": [],
   "source": [
    "import json"
   ]
  },
  {
   "cell_type": "code",
   "execution_count": 58,
   "id": "c72b626d",
   "metadata": {},
   "outputs": [],
   "source": [
    "emp={\"Employee1\":{\"Name\":\"Rajesh\",\"DOB\":\"19-04-2000\",\"Height\":\"6\",\"City\":\"Hyderabad\",\"State\":\"Telangana\"},\n",
    "     \"Employee2\":{\"Name\":\"Rahul\",\"DOB\":\"9-09-1978\",\"Height\":\"5\",\"City\":\"kannur\",\"State\":\"kerala\"},\n",
    "     \"Employee3\":{\"Name\":\"Mina\",\"DOB\":\"17-04-1992\",\"Height\":\"4\",\"City\":\"Calicut\",\"State\":\"Kerala\"},\n",
    "     \"Employee4\":{\"Name\":\"Sheena\",\"DOB\":\"19-04-2003\",\"Height\":\"5\",\"City\":\"Kochi\",\"State\":\"kerala\"},\n",
    "     \"Employee5\":{\"Name\":\"Reny\",\"DOB\":\"19-05-2000\",\"Height\":\"4\",\"City\":\"Kochi\",\"State\":\"kerala\"}}\n",
    "with open(\"employee.json\",\"w\") as f:\n",
    "    json.dump(emp,f)"
   ]
  },
  {
   "cell_type": "code",
   "execution_count": null,
   "id": "47f17d5b",
   "metadata": {},
   "outputs": [],
   "source": []
  },
  {
   "cell_type": "code",
   "execution_count": 59,
   "id": "c1308db7",
   "metadata": {},
   "outputs": [],
   "source": [
    "class Employee:\n",
    "    def __init__(self,args):\n",
    "        self.Name=args['Name']\n",
    "        self.DOB=args['DOB']\n",
    "        self.Height=args['Height']\n",
    "        self.City=args['City']\n",
    "        self.State=args['State']\n",
    "\n",
    "emp=[]\n",
    "with open(\"employee.json\",\"r\") as f:\n",
    "            info=json.load(f)  \n",
    "for i in info:\n",
    "    emp.append(Employee(info[i]))\n"
   ]
  },
  {
   "cell_type": "code",
   "execution_count": 60,
   "id": "7bbbb62b",
   "metadata": {},
   "outputs": [
    {
     "data": {
      "text/plain": [
       "'Rajesh'"
      ]
     },
     "execution_count": 60,
     "metadata": {},
     "output_type": "execute_result"
    }
   ],
   "source": [
    "emp[0].Name"
   ]
  },
  {
   "cell_type": "code",
   "execution_count": 61,
   "id": "e837fb64",
   "metadata": {},
   "outputs": [],
   "source": [
    "#STATES AND CAPITALS OF INDIA"
   ]
  },
  {
   "cell_type": "code",
   "execution_count": 63,
   "id": "679fe782",
   "metadata": {},
   "outputs": [],
   "source": [
    "st={\"Andhra Pradesh\":\"Amaravati\",\"Assam\":\"Dispur\",\"Bihar\":\"Patna\",\"Goa\":\"Panaji\",\"Kerala\":\"Thiruvananthapuram\",\"Manipur\":\"Imphal\"}"
   ]
  },
  {
   "cell_type": "code",
   "execution_count": 65,
   "id": "97de2fe1",
   "metadata": {},
   "outputs": [],
   "source": [
    "with open(\"State.json\",\"w\") as f:\n",
    "    json.dump(st,f)"
   ]
  },
  {
   "cell_type": "code",
   "execution_count": null,
   "id": "6f337600",
   "metadata": {},
   "outputs": [],
   "source": []
  }
 ],
 "metadata": {
  "kernelspec": {
   "display_name": "Python 3 (ipykernel)",
   "language": "python",
   "name": "python3"
  },
  "language_info": {
   "codemirror_mode": {
    "name": "ipython",
    "version": 3
   },
   "file_extension": ".py",
   "mimetype": "text/x-python",
   "name": "python",
   "nbconvert_exporter": "python",
   "pygments_lexer": "ipython3",
   "version": "3.9.12"
  }
 },
 "nbformat": 4,
 "nbformat_minor": 5
}
