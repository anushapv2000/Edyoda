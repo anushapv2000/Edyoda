{
 "cells": [
  {
   "cell_type": "code",
   "execution_count": 98,
   "id": "7986c908",
   "metadata": {},
   "outputs": [
    {
     "name": "stdout",
     "output_type": "stream",
     "text": [
      "0 - for users choice 1 - for sample number 1\n",
      "Numbers: (1, 2, 3, 4, 5, 6, 7, 8, 9)\n",
      "Number of even numbers: 4\n",
      "Number of odd numbers: 5\n"
     ]
    }
   ],
   "source": [
    "choice=int(input(\"0 - for users choice 1 - for sample number \"))\n",
    "n=[]\n",
    "\n",
    "if choice==0:\n",
    "    t=int(input(\"total number of values to be inputted \"))\n",
    "    for i in range(t):\n",
    "        val=int(input(\"values = \"))\n",
    "        n.append(val)\n",
    "    even,odd=check(n)\n",
    "else:\n",
    "    n=(1, 2, 3, 4, 5, 6, 7, 8, 9)\n",
    "    even,odd=check(n)\n",
    "print(\"Numbers:\",tuple(n))\n",
    "print(\"Number of even numbers:\",even)\n",
    "print(\"Number of odd numbers:\",odd)\n",
    "    \n",
    "def check(n):\n",
    "    e=0\n",
    "    o=0\n",
    "    for i in n:\n",
    "        if i%2==0:\n",
    "            e=e+1\n",
    "        else:\n",
    "            o=o+1\n",
    "    return e,o   "
   ]
  }
 ],
 "metadata": {
  "kernelspec": {
   "display_name": "Python 3 (ipykernel)",
   "language": "python",
   "name": "python3"
  },
  "language_info": {
   "codemirror_mode": {
    "name": "ipython",
    "version": 3
   },
   "file_extension": ".py",
   "mimetype": "text/x-python",
   "name": "python",
   "nbconvert_exporter": "python",
   "pygments_lexer": "ipython3",
   "version": "3.9.12"
  }
 },
 "nbformat": 4,
 "nbformat_minor": 5
}
