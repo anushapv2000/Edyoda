{
 "cells": [
  {
   "cell_type": "code",
   "execution_count": null,
   "id": "3416a7c4",
   "metadata": {},
   "outputs": [],
   "source": [
    "Sample List : [(2, 5), (1, 2), (4, 4), (2, 3), (2, 1)]\n",
    "\n",
    "Expected Result : [(2, 1), (1, 2), (2, 3), (4, 4), (2, 5)]"
   ]
  },
  {
   "cell_type": "code",
   "execution_count": 36,
   "id": "951bc35a",
   "metadata": {},
   "outputs": [],
   "source": [
    "#Write a Python program to get a list, sorted in increasing order by the last element in each tuple from a given list of non-empty tuples\n",
    "\n",
    "#Print the expected output - 50"
   ]
  },
  {
   "cell_type": "code",
   "execution_count": 129,
   "id": "85651190",
   "metadata": {},
   "outputs": [
    {
     "name": "stdout",
     "output_type": "stream",
     "text": [
      "enter 1-choose values 2-samplelist2\n",
      "output =  [(2, 1), (1, 2), (2, 3), (4, 4), (2, 5)]\n"
     ]
    }
   ],
   "source": [
    "ch=int(input(\"enter 1-choose values 2-samplelist\"))\n",
    "if ch == 1:\n",
    "    n=int(input(\"enter the number of tuples to be added inlist\"))\n",
    "    l=[]\n",
    "    a=[]\n",
    "    for i in range(n):\n",
    "        k=tuple(input(\"Enter any digit number other than float values\"))\n",
    "        a.append(k)\n",
    "else:\n",
    "    a=[(2, 5), (1, 2), (4, 4), (2, 3), (2, 1)]\n",
    "for i in range(0,len(a)):\n",
    "    for j in range(0,len(a)-i-1):\n",
    "        if a[j][len(a[j])-1]>a[j+1][len(a[j+1])-1]:\n",
    "            t=a[j]\n",
    "            a[j]=a[j+1]\n",
    "            a[j+1]=t\n",
    "            \n",
    "print(\"output = \",a)\n",
    "            "
   ]
  },
  {
   "cell_type": "code",
   "execution_count": null,
   "id": "bb3e50f1",
   "metadata": {},
   "outputs": [],
   "source": []
  }
 ],
 "metadata": {
  "kernelspec": {
   "display_name": "Python 3 (ipykernel)",
   "language": "python",
   "name": "python3"
  },
  "language_info": {
   "codemirror_mode": {
    "name": "ipython",
    "version": 3
   },
   "file_extension": ".py",
   "mimetype": "text/x-python",
   "name": "python",
   "nbconvert_exporter": "python",
   "pygments_lexer": "ipython3",
   "version": "3.9.12"
  }
 },
 "nbformat": 4,
 "nbformat_minor": 5
}
